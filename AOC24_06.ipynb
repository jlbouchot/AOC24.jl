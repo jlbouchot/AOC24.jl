{
 "cells": [
  {
   "cell_type": "code",
   "execution_count": 6,
   "id": "80e73ea5-b2ae-4b7d-bbb9-fe1afe669aef",
   "metadata": {},
   "outputs": [
    {
     "data": {
      "text/plain": [
       "10-element Vector{Vector{Bool}}:\n",
       " [0, 0, 0, 0, 1, 0, 0, 0, 0, 0]\n",
       " [0, 0, 0, 0, 0, 0, 0, 0, 0, 1]\n",
       " [0, 0, 0, 0, 0, 0, 0, 0, 0, 0]\n",
       " [0, 0, 1, 0, 0, 0, 0, 0, 0, 0]\n",
       " [0, 0, 0, 0, 0, 0, 0, 1, 0, 0]\n",
       " [0, 0, 0, 0, 0, 0, 0, 0, 0, 0]\n",
       " [0, 1, 0, 0, 0, 0, 0, 0, 0, 0]\n",
       " [0, 0, 0, 0, 0, 0, 0, 0, 1, 0]\n",
       " [1, 0, 0, 0, 0, 0, 0, 0, 0, 0]\n",
       " [0, 0, 0, 0, 0, 0, 1, 0, 0, 0]"
      ]
     },
     "metadata": {},
     "output_type": "display_data"
    },
    {
     "data": {
      "text/plain": [
       "0"
      ]
     },
     "execution_count": 6,
     "metadata": {},
     "output_type": "execute_result"
    }
   ],
   "source": [
    "\n",
    "tot_sum = open(\"06_test.txt\") do f\n",
    "    tot = 0\n",
    "    has_obstacles = Array{Array{Bool, 1}, 1}()\n",
    "    i = 1\n",
    "    starting_point = (0,0)\n",
    "    for l in eachline(f)\n",
    "        push!(has_obstacles, [c == '#' for c in l])\n",
    "        idx = findfirst(item -> item in ['<', '>', 'v', '^'], pages_to_print)\n",
    "        if \n",
    "        i += 1\n",
    "    end\n",
    "    display(has_obstacles)\n",
    "    (tot)\n",
    "end"
   ]
  },
  {
   "cell_type": "code",
   "execution_count": null,
   "id": "75dde021-3ca6-48ff-a90c-c6b584aa3289",
   "metadata": {},
   "outputs": [],
   "source": []
  }
 ],
 "metadata": {
  "kernelspec": {
   "display_name": "Julia 1.9.2",
   "language": "julia",
   "name": "julia-1.9"
  },
  "language_info": {
   "file_extension": ".jl",
   "mimetype": "application/julia",
   "name": "julia",
   "version": "1.9.2"
  }
 },
 "nbformat": 4,
 "nbformat_minor": 5
}
