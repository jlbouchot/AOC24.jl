{
 "cells": [
  {
   "cell_type": "code",
   "execution_count": 32,
   "id": "9d7e8ef9-2b4b-4e1e-8986-cae50a2b18c9",
   "metadata": {},
   "outputs": [
    {
     "data": {
      "text/plain": [
       "314"
      ]
     },
     "execution_count": 32,
     "metadata": {},
     "output_type": "execute_result"
    }
   ],
   "source": [
    "reports = Dict()\n",
    "tot_sum = open(\"02_1.txt\") do f\n",
    "    tot = 0\n",
    "    i = 1\n",
    "    for l in eachline(f)\n",
    "        valid = true\n",
    "        r = split(l, \" \")\n",
    "        reports[i] = broadcast(x -> parse(Int, x), r)\n",
    "        diff = reports[i][2:end] - reports[i][1:end-1]\n",
    "        valid = valid && (all(>(0), diff) || all(<(0), diff))\n",
    "        valid = valid &&  (maximum(broadcast(abs, diff)) < 4 )\n",
    "        tot += valid\n",
    "        i += 1\n",
    "    end\n",
    "    (tot)\n",
    "end"
   ]
  },
  {
   "cell_type": "code",
   "execution_count": 48,
   "id": "7039217c-b780-4bed-a636-ec09c6ae1c72",
   "metadata": {},
   "outputs": [
    {
     "data": {
      "text/plain": [
       "373"
      ]
     },
     "execution_count": 48,
     "metadata": {},
     "output_type": "execute_result"
    }
   ],
   "source": [
    "tot_sum = open(\"02_1.txt\") do f\n",
    "    tot = 0\n",
    "    for l in eachline(f)\n",
    "        valid = true\n",
    "        nbFalse = 0\n",
    "        r = split(l, \" \")\n",
    "        report = broadcast(x -> parse(Int, x), r)\n",
    "        diff = report[2:end] - report[1:end-1]\n",
    "        valid = valid && (all(>(0), diff) || all(<(0), diff))\n",
    "        valid = valid &&  (maximum(broadcast(abs, diff)) < 4 )\n",
    "        if !valid\n",
    "            # Try dampening\n",
    "            ind = 1\n",
    "            while !valid && ind <= length(report)\n",
    "                valid = true\n",
    "                newreport = report[setdiff(1:length(report), ind)]\n",
    "                diff = newreport[2:end] - newreport[1:end-1]\n",
    "                valid = valid && (all(>(0), diff) || all(<(0), diff))\n",
    "                valid = valid &&  (maximum(broadcast(abs, diff)) < 4 )\n",
    "                ind += 1\n",
    "            end\n",
    "        end\n",
    "        tot += valid\n",
    "    end\n",
    "    (tot)\n",
    "end"
   ]
  },
  {
   "cell_type": "code",
   "execution_count": null,
   "id": "d4f0dd18-163e-486b-afc7-db57ee496cfb",
   "metadata": {},
   "outputs": [],
   "source": []
  }
 ],
 "metadata": {
  "kernelspec": {
   "display_name": "Julia 1.9.2",
   "language": "julia",
   "name": "julia-1.9"
  },
  "language_info": {
   "file_extension": ".jl",
   "mimetype": "application/julia",
   "name": "julia",
   "version": "1.9.2"
  }
 },
 "nbformat": 4,
 "nbformat_minor": 5
}
