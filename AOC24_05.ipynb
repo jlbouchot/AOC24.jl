{
 "cells": [
  {
   "cell_type": "code",
   "execution_count": 20,
   "id": "076b59a6-6425-4ee4-b784-913d066de87b",
   "metadata": {},
   "outputs": [
    {
     "data": {
      "text/plain": [
       "5948"
      ]
     },
     "execution_count": 20,
     "metadata": {},
     "output_type": "execute_result"
    }
   ],
   "source": [
    "using DataStructures\n",
    "tot_sum = open(\"05_1.txt\") do f\n",
    "    tot = 0\n",
    "    followers = DefaultDict{Int, Set}(Set)\n",
    "    i = 1\n",
    "    do_dict = true\n",
    "    for l in eachline(f)\n",
    "        if (l == \"\")\n",
    "            do_dict = false\n",
    "            # println(followers)\n",
    "            continue\n",
    "        end\n",
    "        if do_dict\n",
    "            p,n = split(l, \"|\")\n",
    "            p = parse(Int,p)\n",
    "            push!(followers[p], parse(Int,n))\n",
    "        end\n",
    "        if !do_dict\n",
    "            pages_to_print = [parse(Int, v) for v in split(l, \",\")]\n",
    "            # println(pages_to_print)\n",
    "            seen = Set()\n",
    "            valid = true\n",
    "            for p in pages_to_print\n",
    "                # println(\"Followers of \", p, \" are \", followers[p], \". Seen is \", seen)\n",
    "                if length(intersect(followers[p],seen)) > 0\n",
    "                    valid = false\n",
    "                    break\n",
    "                end\n",
    "                push!(seen, p)\n",
    "            end\n",
    "            # println(\"Current program is valid? \", valid)\n",
    "            if valid \n",
    "                tot += pages_to_print[(length(pages_to_print)+1) ÷ 2]\n",
    "            end\n",
    "                \n",
    "        end\n",
    "    end\n",
    "    (tot)\n",
    "end"
   ]
  },
  {
   "cell_type": "code",
   "execution_count": 65,
   "id": "796f4712-0d61-43c6-a414-c665d5e54d20",
   "metadata": {},
   "outputs": [
    {
     "name": "stdout",
     "output_type": "stream",
     "text": [
      "DefaultDict{Int64, Set, UnionAll}(47 => Set(Any[13, 61, 29, 53]), 61 => Set(Any[13, 29, 53]), 29 => Set(Any[13]), 97 => Set(Any[13, 61, 47, 29, 75, 53]), 75 => Set(Any[47, 29, 61, 13, 53]), 53 => Set(Any[13, 29]))\n",
      "Set(Any[75])\n",
      "Current wrong value is 97 exchanged with 75 at idx 1\n",
      "[75, 97, 47, 61, 53]\n",
      "New is [97, 75, 47, 61, 53]\n",
      "Seen = Set(Any[75])\n",
      "Set(Any[13])\n",
      "Current wrong value is 29 exchanged with 13 at idx 2\n",
      "[61, 13, 29]\n",
      "New is [61, 29, 13]\n",
      "Seen = Set(Any[61, 13])\n",
      "Set(Any[13])\n",
      "Current wrong value is 75 exchanged with 13 at idx 2\n",
      "[97, 13, 75, 29, 47]\n",
      "New is [97, 75, 13, 29, 47]\n",
      "Seen = Set(Any[13, 97])\n",
      "Set(Any[13])\n",
      "Current wrong value is 29 exchanged with 13 at idx 3\n",
      "[97, 75, 13, 29, 47]\n",
      "New is [97, 75, 29, 13, 47]\n",
      "Seen = Set(Any[13, 97, 75])\n",
      "Set(Any[13, 29])\n",
      "Current wrong value is 47 exchanged with 29 at idx 3\n",
      "[97, 75, 29, 13, 47]\n",
      "New is [97, 75, 47, 29, 13]\n",
      "Seen = Set(Any[13, 29, 97, 75])\n"
     ]
    },
    {
     "data": {
      "text/plain": [
       "123"
      ]
     },
     "execution_count": 65,
     "metadata": {},
     "output_type": "execute_result"
    }
   ],
   "source": [
    "tot_sum = open(\"05_test.txt\") do f\n",
    "    tot = 0\n",
    "    followers = DefaultDict{Int, Set}(Set)\n",
    "    i = 1\n",
    "    do_dict = true\n",
    "    for l in eachline(f)\n",
    "        if (l == \"\")\n",
    "            do_dict = false\n",
    "            println(followers)\n",
    "            continue\n",
    "        end\n",
    "        if do_dict\n",
    "            p,n = split(l, \"|\")\n",
    "            p = parse(Int,p)\n",
    "            push!(followers[p], parse(Int,n))\n",
    "        end\n",
    "        if !do_dict\n",
    "            pages_to_print = [parse(Int, v) for v in split(l, \",\")]\n",
    "            # println(pages_to_print)\n",
    "            seen = Set()\n",
    "            valid = true\n",
    "            wrong_idx = 1\n",
    "            wrong_val = -1\n",
    "            for p in pages_to_print\n",
    "                # println(\"Followers of \", p, \" are \", followers[p], \". Seen is \", seen)\n",
    "                # do_loop = true\n",
    "                # while do_loop\n",
    "                    # p = pages_to_print[wrong_idx]\n",
    "                    # do_loop = false\n",
    "                    if length(intersect(followers[p],seen)) > 0\n",
    "                        valid = false\n",
    "                        do_loop = true\n",
    "                        wrong_val = p\n",
    "                        println(intersect(followers[p],seen))\n",
    "                        #for j in intersect(followers[wrong_val],seen)\n",
    "                        #    other_val = j # I Shouldn't have worked with sets!!!\n",
    "                        #end\n",
    "                        idx = findfirst(item -> item in intersect(followers[p],seen), pages_to_print)\n",
    "                        println(\"Current wrong value is \", wrong_val, \" exchanged with \", pages_to_print[idx], \" at idx \", idx)\n",
    "                        println(pages_to_print)\n",
    "                        tmp = pages_to_print[idx]\n",
    "                        for i in range(idx, wrong_idx-1)\n",
    "                            next = pages_to_print[i+1]\n",
    "                            # println(\"next = \", next, \" tmp = \", tmp)\n",
    "                            pages_to_print[i+1] = tmp\n",
    "                            tmp = next\n",
    "                        end\n",
    "                        pages_to_print[idx] = wrong_val\n",
    "                        println(\"New is \", pages_to_print)\n",
    "                        println(\"Seen = \", seen)\n",
    "                    end\n",
    "                # end\n",
    "                push!(seen, p)\n",
    "                wrong_idx += 1\n",
    "            end\n",
    "            # println(\"Current program is valid? \", valid)\n",
    "            if !valid \n",
    "                tot += pages_to_print[(length(pages_to_print)+1) ÷ 2]\n",
    "            end\n",
    "                \n",
    "        end\n",
    "    end\n",
    "    (tot)\n",
    "end"
   ]
  },
  {
   "cell_type": "code",
   "execution_count": null,
   "id": "17f3af83-34ec-4403-9fb5-ef257a2bd4cc",
   "metadata": {},
   "outputs": [],
   "source": []
  }
 ],
 "metadata": {
  "kernelspec": {
   "display_name": "Julia 1.9.2",
   "language": "julia",
   "name": "julia-1.9"
  },
  "language_info": {
   "file_extension": ".jl",
   "mimetype": "application/julia",
   "name": "julia",
   "version": "1.9.2"
  }
 },
 "nbformat": 4,
 "nbformat_minor": 5
}
