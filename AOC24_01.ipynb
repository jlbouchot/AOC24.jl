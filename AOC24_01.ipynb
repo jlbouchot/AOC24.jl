{
 "cells": [
  {
   "cell_type": "code",
   "execution_count": 5,
   "id": "3b6fc1ae-8dd3-418d-b40b-832f84e7f83b",
   "metadata": {},
   "outputs": [
    {
     "data": {
      "text/plain": [
       "936063.0"
      ]
     },
     "execution_count": 5,
     "metadata": {},
     "output_type": "execute_result"
    }
   ],
   "source": [
    "tot_sum = open(\"01_1.txt\") do f\n",
    "    tot = 0\n",
    "    ls = zeros(0)\n",
    "    rs = zeros(0)\n",
    "    for l in eachline(f)\n",
    "        l,r = split(l, \"   \")\n",
    "        append!(ls, parse(Int, l))\n",
    "        append!(rs, parse(Int, r))\n",
    "    end\n",
    "    sort!(ls)\n",
    "    sort!(rs)\n",
    "    tot = sum(broadcast(abs,(ls - rs)))\n",
    "    (tot)\n",
    "end"
   ]
  },
  {
   "cell_type": "code",
   "execution_count": 9,
   "id": "1e6f9ea1-9a10-4058-9261-c077732116ed",
   "metadata": {},
   "outputs": [
    {
     "name": "stderr",
     "output_type": "stream",
     "text": [
      "\u001b[32m\u001b[1m    Updating\u001b[22m\u001b[39m registry at `~/anaconda3/envs/JuliaEnv/share/julia/registries/General.toml`\n",
      "\u001b[32m\u001b[1m   Resolving\u001b[22m\u001b[39m package versions...\n",
      "\u001b[32m\u001b[1m   Installed\u001b[22m\u001b[39m Compat ───────────── v4.16.0\n",
      "\u001b[32m\u001b[1m   Installed\u001b[22m\u001b[39m OrderedCollections ─ v1.7.0\n",
      "\u001b[32m\u001b[1m    Updating\u001b[22m\u001b[39m `/home/jeboucho/anaconda3/envs/JuliaEnv/share/julia/environments/JuliaEnv/Project.toml`\n",
      "  \u001b[90m[864edb3b] \u001b[39m\u001b[92m+ DataStructures v0.18.20\u001b[39m\n",
      "\u001b[32m\u001b[1m    Updating\u001b[22m\u001b[39m `/home/jeboucho/anaconda3/envs/JuliaEnv/share/julia/environments/JuliaEnv/Manifest.toml`\n",
      "  \u001b[90m[34da2185] \u001b[39m\u001b[92m+ Compat v4.16.0\u001b[39m\n",
      "  \u001b[90m[864edb3b] \u001b[39m\u001b[92m+ DataStructures v0.18.20\u001b[39m\n",
      "  \u001b[90m[bac558e1] \u001b[39m\u001b[92m+ OrderedCollections v1.7.0\u001b[39m\n",
      "  \u001b[90m[b27032c2] \u001b[39m\u001b[95m↓ LibCURL v0.6.4 ⇒ v0.6.3\u001b[39m\n",
      "  \u001b[90m[44cfe95a] \u001b[39m\u001b[95m↓ Pkg v1.10.0 ⇒ v1.9.2\u001b[39m\n",
      "  \u001b[90m[deac9b47] \u001b[39m\u001b[95m↓ LibCURL_jll v8.4.0+0 ⇒ v7.84.0+0\u001b[39m\n",
      "  \u001b[90m[e37daf67] \u001b[39m\u001b[91m- LibGit2_jll v1.6.4+0\u001b[39m\n",
      "  \u001b[90m[29816b5a] \u001b[39m\u001b[95m↓ LibSSH2_jll v1.11.0+1 ⇒ v1.10.2+0\u001b[39m\n",
      "  \u001b[90m[c8ffd9c3] \u001b[39m\u001b[95m↓ MbedTLS_jll v2.28.2+1 ⇒ v2.28.2+0\u001b[39m\n",
      "  \u001b[90m[14a3606d] \u001b[39m\u001b[95m↓ MozillaCACerts_jll v2023.1.10 ⇒ v2022.10.11\u001b[39m\n",
      "  \u001b[90m[83775a58] \u001b[39m\u001b[95m↓ Zlib_jll v1.2.13+1 ⇒ v1.2.13+0\u001b[39m\n",
      "  \u001b[90m[8e850ede] \u001b[39m\u001b[95m↓ nghttp2_jll v1.52.0+1 ⇒ v1.48.0+0\u001b[39m\n",
      "  \u001b[90m[3f19e933] \u001b[39m\u001b[95m↓ p7zip_jll v17.4.0+2 ⇒ v17.4.0+0\u001b[39m\n",
      "\u001b[32m\u001b[1mPrecompiling\u001b[22m\u001b[39m project...\n",
      "\u001b[32m  ✓ \u001b[39m\u001b[90mCompat\u001b[39m\n",
      "\u001b[32m  ✓ \u001b[39m\u001b[90mOrderedCollections\u001b[39m\n",
      "\u001b[32m  ✓ \u001b[39mDataStructures\n",
      "  3 dependencies successfully precompiled in 2 seconds. 16 already precompiled.\n"
     ]
    }
   ],
   "source": [
    "using Pkg\n",
    "Pkg.add(\"DataStructures\")\n",
    "using DataStructures\n"
   ]
  },
  {
   "cell_type": "code",
   "execution_count": 17,
   "id": "09c76f87-86d3-4621-94cd-8b0845514d95",
   "metadata": {},
   "outputs": [
    {
     "data": {
      "text/plain": [
       "2.3150395e7"
      ]
     },
     "execution_count": 17,
     "metadata": {},
     "output_type": "execute_result"
    }
   ],
   "source": [
    "rightlist = DefaultDict(0)\n",
    "tot_sum = open(\"01_1.txt\") do f\n",
    "    tot = 0\n",
    "    ls = zeros(0)\n",
    "    rs = zeros(0)\n",
    "    for l in eachline(f)\n",
    "        l,r = split(l, \"   \")\n",
    "        append!(ls, parse(Int, l))\n",
    "        rightlist[parse(Int, r)] +=1\n",
    "    end\n",
    "    for l in ls\n",
    "        tot += l*rightlist[l]\n",
    "    end\n",
    "    #println(rightlist)\n",
    "    #println(ls)\n",
    "    (tot)\n",
    "end"
   ]
  },
  {
   "cell_type": "code",
   "execution_count": null,
   "id": "5bd08ce0-aed2-494f-8c36-5abe72183e5a",
   "metadata": {},
   "outputs": [],
   "source": []
  }
 ],
 "metadata": {
  "kernelspec": {
   "display_name": "Julia 1.9.2",
   "language": "julia",
   "name": "julia-1.9"
  },
  "language_info": {
   "file_extension": ".jl",
   "mimetype": "application/julia",
   "name": "julia",
   "version": "1.9.2"
  }
 },
 "nbformat": 4,
 "nbformat_minor": 5
}
