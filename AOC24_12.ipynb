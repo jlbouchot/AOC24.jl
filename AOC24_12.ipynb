{
 "cells": [
  {
   "cell_type": "code",
   "execution_count": 2,
   "id": "e11e55ed-1613-4408-813c-1e2240caaff7",
   "metadata": {},
   "outputs": [],
   "source": [
    "using DataStructures"
   ]
  },
  {
   "cell_type": "code",
   "execution_count": 23,
   "id": "a4564679-6b0b-4075-ac7f-dff58812b647",
   "metadata": {},
   "outputs": [
    {
     "ename": "LoadError",
     "evalue": "invalid redefinition of constant Region",
     "output_type": "error",
     "traceback": [
      "invalid redefinition of constant Region",
      "",
      "Stacktrace:",
      " [1] top-level scope",
      "   @ In[23]:1"
     ]
    }
   ],
   "source": [
    "struct Region\n",
    "    p::Int64\n",
    "    a::Int64\n",
    "end\n",
    "\n",
    "function Region(p,a)\n",
    "    return Region(p,a)\n",
    "end\n",
    "\n",
    "function Region()\n",
    "    return Region(0,0)\n",
    "end"
   ]
  },
  {
   "cell_type": "code",
   "execution_count": 36,
   "id": "9bd8196d-d972-4baf-81ce-95991f9db1fb",
   "metadata": {},
   "outputs": [
    {
     "data": {
      "text/plain": [
       "10-element Vector{Vector{Char}}:\n",
       " ['R', 'R', 'R', 'R', 'I', 'I', 'C', 'C', 'F', 'F']\n",
       " ['R', 'R', 'R', 'R', 'I', 'I', 'C', 'C', 'C', 'F']\n",
       " ['V', 'V', 'R', 'R', 'R', 'C', 'C', 'F', 'F', 'F']\n",
       " ['V', 'V', 'R', 'C', 'C', 'C', 'J', 'F', 'F', 'F']\n",
       " ['V', 'V', 'V', 'V', 'C', 'J', 'J', 'C', 'F', 'E']\n",
       " ['V', 'V', 'I', 'V', 'C', 'C', 'J', 'J', 'E', 'E']\n",
       " ['V', 'V', 'I', 'I', 'I', 'C', 'J', 'J', 'E', 'E']\n",
       " ['M', 'I', 'I', 'I', 'I', 'I', 'J', 'J', 'E', 'E']\n",
       " ['M', 'I', 'I', 'I', 'S', 'I', 'J', 'E', 'E', 'E']\n",
       " ['M', 'M', 'M', 'I', 'S', 'S', 'J', 'E', 'E', 'E']"
      ]
     },
     "metadata": {},
     "output_type": "display_data"
    },
    {
     "name": "stdout",
     "output_type": "stream",
     "text": [
      "DefaultDict{Char, Region, var\"#84#86\"}('M' => Region(12, 5), 'J' => Region(20, 11), 'I' => Region(30, 18), 'E' => Region(18, 13), 'V' => Region(20, 13), 'R' => Region(18, 12), 'S' => Region(8, 3), 'F' => Region(18, 10), 'C' => Region(32, 15))\n"
     ]
    },
    {
     "data": {
      "text/plain": [
       "2214"
      ]
     },
     "execution_count": 36,
     "metadata": {},
     "output_type": "execute_result"
    }
   ],
   "source": [
    "tot_sum = open(\"12_3.txt\") do f\n",
    "    tot = 0\n",
    "    regions = DefaultDict{Char, Region}(() -> Region(0,0))\n",
    "    my_field = Array{Array{Char, 1},1}()\n",
    "    for l in eachline(f)\n",
    "        push!(my_field, [c for c in l])\n",
    "    end\n",
    "    display(my_field)\n",
    "    # Add one perimeter to the top\n",
    "    for j in range(1, length(my_field[1]))\n",
    "        regions[my_field[1][j]].p += 1\n",
    "    end\n",
    "    # Main loop \n",
    "    #println(\"Before entering the main loop\")\n",
    "    #println(regions)\n",
    "    for i in range(1, length(my_field)-1)\n",
    "        # First character needs to be added with a perimeter to the left\n",
    "        regions[my_field[i][1]].p += 1\n",
    "        #println(\"Setting left most p\")\n",
    "        #println(regions)\n",
    "        for j in range(1, length(my_field[i])-1)\n",
    "            #println(\"(i,j) = (\",i,\",\",j,\")\")\n",
    "            if my_field[i][j] != my_field[i][j+1]\n",
    "                # Add one p for both of them\n",
    "                regions[my_field[i][j]].p += 1\n",
    "                regions[my_field[i][j+1]].p += 1\n",
    "            end\n",
    "            if my_field[i][j] != my_field[i+1][j]\n",
    "                # Add one p for both of them\n",
    "                regions[my_field[i][j]].p += 1\n",
    "                regions[my_field[i+1][j]].p += 1\n",
    "            end\n",
    "    \n",
    "            regions[my_field[i][j]].a += 1\n",
    "        end\n",
    "        if my_field[i][end] != my_field[i+1][end]\n",
    "            # Add one p for both of them\n",
    "            regions[my_field[i][end]].p += 1\n",
    "            regions[my_field[i+1][end]].p += 1\n",
    "        end\n",
    "        regions[my_field[i][end]].a += 1\n",
    "        regions[my_field[i][end]].p += 1\n",
    "        #println(\"End of row\")\n",
    "        #println(regions)\n",
    "    end\n",
    "    regions[my_field[end][1]].p += 1\n",
    "    for j in range(1,length(my_field[end])-1)\n",
    "        if my_field[end][j] != my_field[end][j+1]\n",
    "            # Add one p for both of them\n",
    "            regions[my_field[end][j]].p += 1\n",
    "            regions[my_field[end][j+1]].p += 1\n",
    "        end\n",
    "        regions[my_field[end][j]].a += 1\n",
    "        regions[my_field[end][j]].p += 1\n",
    "    end\n",
    "    regions[my_field[end][end]].a += 1\n",
    "    regions[my_field[end][end]].p += 2\n",
    "\n",
    "    println(regions)\n",
    "\n",
    "    for k in keys(regions)\n",
    "        tot += regions[k].a*regions[k].p\n",
    "    end\n",
    "            \n",
    "            \n",
    "    (tot)\n",
    "end"
   ]
  },
  {
   "cell_type": "code",
   "execution_count": 46,
   "id": "9e2f6452-d8f1-462c-a5d3-40d6cb4ef284",
   "metadata": {},
   "outputs": [
    {
     "data": {
      "text/plain": [
       "10-element Vector{Vector{Char}}:\n",
       " ['R', 'R', 'R', 'R', 'I', 'I', 'C', 'C', 'F', 'F']\n",
       " ['R', 'R', 'R', 'R', 'I', 'I', 'C', 'C', 'C', 'F']\n",
       " ['V', 'V', 'R', 'R', 'R', 'C', 'C', 'F', 'F', 'F']\n",
       " ['V', 'V', 'R', 'C', 'C', 'C', 'J', 'F', 'F', 'F']\n",
       " ['V', 'V', 'V', 'V', 'C', 'J', 'J', 'C', 'F', 'E']\n",
       " ['V', 'V', 'I', 'V', 'C', 'C', 'J', 'J', 'E', 'E']\n",
       " ['V', 'V', 'I', 'I', 'I', 'C', 'J', 'J', 'E', 'E']\n",
       " ['M', 'I', 'I', 'I', 'I', 'I', 'J', 'J', 'E', 'E']\n",
       " ['M', 'I', 'I', 'I', 'S', 'I', 'J', 'E', 'E', 'E']\n",
       " ['M', 'M', 'M', 'I', 'S', 'S', 'J', 'E', 'E', 'E']"
      ]
     },
     "metadata": {},
     "output_type": "display_data"
    },
    {
     "data": {
      "text/plain": [
       "10-element Vector{Vector{Int64}}:\n",
       " [0, 0, 0, 0, 0, 0, 0, 0, 0, 0]\n",
       " [0, 0, 0, 0, 0, 0, 0, 0, 0, 0]\n",
       " [0, 0, 0, 0, 0, 0, 0, 0, 0, 0]\n",
       " [0, 0, 0, 0, 0, 0, 0, 0, 0, 0]\n",
       " [0, 0, 0, 0, 0, 0, 0, 0, 0, 0]\n",
       " [0, 0, 0, 0, 0, 0, 0, 0, 0, 0]\n",
       " [0, 0, 0, 0, 0, 0, 0, 0, 0, 0]\n",
       " [0, 0, 0, 0, 0, 0, 0, 0, 0, 0]\n",
       " [0, 0, 0, 0, 0, 0, 0, 0, 0, 0]\n",
       " [0, 0, 0, 0, 0, 0, 0, 0, 0, 0]"
      ]
     },
     "metadata": {},
     "output_type": "display_data"
    },
    {
     "data": {
      "text/plain": [
       "0"
      ]
     },
     "execution_count": 46,
     "metadata": {},
     "output_type": "execute_result"
    }
   ],
   "source": [
    "tot_sum = open(\"12_3.txt\") do f\n",
    "    tot = 0\n",
    "    regions = DefaultDict{Int, Region}(() -> Region(0,0))\n",
    "    my_field = Array{Array{Char, 1},1}()\n",
    "    for l in eachline(f)\n",
    "        push!(my_field, [c for c in l])\n",
    "    end\n",
    "    display(my_field)\n",
    "\n",
    "    reg_field = [[0 for j in 1:length(my_field[1])] for i in 1:length(my_field)]\n",
    "    # Add one perimeter to the top\n",
    "    reg_nb = 1\n",
    "    \n",
    "\n",
    "    #### Need to add left and right perimeters\n",
    "    \n",
    "    # Inherit region number from above\n",
    "    for j in range(1,length(my_field[1]))\n",
    "        regions[reg_nb] = Region(1,1)\n",
    "        reg_field[1][j] = reg_nb\n",
    "        reg_nb+=1\n",
    "    end\n",
    "    # Fuse neighbouring regions if needed\n",
    "    for j in range(1,length(my_field[1])-1)\n",
    "        if my_field[1][j] == my_field[1][j+1]\n",
    "            \n",
    "            regions[reg_field[i][j]].a = regions[].a\n",
    "            regions[reg_field[i][j]].p = regions[to_remove].p\n",
    "            to_remove = reg_field[i][j+1]\n",
    "            replace!(x == to_remove, reg_field[i][j],reg_field)\n",
    "            delete!(regions, to_remove)\n",
    "        end\n",
    "    end\n",
    "            \n",
    "    # Define a first region\n",
    "    regions[reg_nb] = (Region(2,1), my_field[1][1])\n",
    "    reg_nb += 1\n",
    "    for j in range(1, length(my_field[1])-1)\n",
    "        i\n",
    "        regions[my_field[1][j]].p += 1\n",
    "    end\n",
    "    # Main loop \n",
    "    #println(\"Before entering the main loop\")\n",
    "    #println(regions)\n",
    "    for i in range(1, length(my_field)-1)\n",
    "        # First character needs to be added with a perimeter to the left\n",
    "        regions[my_field[i][1]].p += 1\n",
    "        #println(\"Setting left most p\")\n",
    "        #println(regions)\n",
    "        for j in range(1, length(my_field[i])-1)\n",
    "            #println(\"(i,j) = (\",i,\",\",j,\")\")\n",
    "            if my_field[i][j] != my_field[i][j+1]\n",
    "                # Add one p for both of them\n",
    "                regions[my_field[i][j]].p += 1\n",
    "                regions[my_field[i][j+1]].p += 1\n",
    "            end\n",
    "            if my_field[i][j] != my_field[i+1][j]\n",
    "                # Add one p for both of them\n",
    "                regions[my_field[i][j]].p += 1\n",
    "                regions[my_field[i+1][j]].p += 1\n",
    "            end\n",
    "    \n",
    "            regions[my_field[i][j]].a += 1\n",
    "        end\n",
    "        if my_field[i][end] != my_field[i+1][end]\n",
    "            # Add one p for both of them\n",
    "            regions[my_field[i][end]].p += 1\n",
    "            regions[my_field[i+1][end]].p += 1\n",
    "        end\n",
    "        regions[my_field[i][end]].a += 1\n",
    "        regions[my_field[i][end]].p += 1\n",
    "        #println(\"End of row\")\n",
    "        #println(regions)\n",
    "    end\n",
    "    regions[my_field[end][1]].p += 1\n",
    "    for j in range(1,length(my_field[end])-1)\n",
    "        if my_field[end][j] != my_field[end][j+1]\n",
    "            # Add one p for both of them\n",
    "            regions[my_field[end][j]].p += 1\n",
    "            regions[my_field[end][j+1]].p += 1\n",
    "        end\n",
    "        regions[my_field[end][j]].a += 1\n",
    "        regions[my_field[end][j]].p += 1\n",
    "    end\n",
    "    regions[my_field[end][end]].a += 1\n",
    "    regions[my_field[end][end]].p += 2\n",
    "\n",
    "    println(regions)\n",
    "\n",
    "    for k in keys(regions)\n",
    "        tot += regions[k].a*regions[k].p\n",
    "    end\n",
    "    \n",
    "            \n",
    "            \n",
    "    (tot)\n",
    "end"
   ]
  },
  {
   "cell_type": "code",
   "execution_count": null,
   "id": "a0276e0c-693f-4c7d-a184-514f7929a4b8",
   "metadata": {},
   "outputs": [],
   "source": []
  }
 ],
 "metadata": {
  "kernelspec": {
   "display_name": "Julia 1.9.2",
   "language": "julia",
   "name": "julia-1.9"
  },
  "language_info": {
   "file_extension": ".jl",
   "mimetype": "application/julia",
   "name": "julia",
   "version": "1.9.2"
  }
 },
 "nbformat": 4,
 "nbformat_minor": 5
}
