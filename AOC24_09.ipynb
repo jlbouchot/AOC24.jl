{
 "cells": [
  {
   "cell_type": "code",
   "execution_count": 10,
   "id": "39f13f15-0e08-4d9d-a124-be7d61b63a59",
   "metadata": {},
   "outputs": [],
   "source": [
    "using DataStructures\n",
    "# import Pkg; Pkg.add(\"Formatting\")\n",
    "using Formatting"
   ]
  },
  {
   "cell_type": "code",
   "execution_count": 13,
   "id": "629ced64-8fe2-4696-b062-b0d250fe1d26",
   "metadata": {},
   "outputs": [
    {
     "name": "stdout",
     "output_type": "stream",
     "text": [
      "19999\n",
      "6,291,146,824,486\n"
     ]
    },
    {
     "data": {
      "text/plain": [
       "6.291146824486e12"
      ]
     },
     "execution_count": 13,
     "metadata": {},
     "output_type": "execute_result"
    }
   ],
   "source": [
    "tot_sum = open(\"09_1.txt\") do f\n",
    "    tot = 0\n",
    "    nb_chunks = 0\n",
    "    for l in eachline(f)\n",
    "        nb_chunks = length(l)\n",
    "        l_idx = 1\n",
    "        r_idx = nb_chunks\n",
    "        r_id = (nb_chunks-1)/2\n",
    "        r_is_file = true\n",
    "        l_is_file = true\n",
    "        l_id = 0\n",
    "        block_pos = 0\n",
    "        r_length = parse(Int, l[r_idx])\n",
    "        l_length = parse(Int, l[l_idx])\n",
    "        while l_idx < r_idx\n",
    "            \n",
    "            if l_is_file \n",
    "                while l_length > 0\n",
    "                    tot += block_pos*l_id\n",
    "                    # println(\"Adding file id \", l_id, \" at position \", block_pos)\n",
    "                    block_pos += 1\n",
    "                    l_length -= 1\n",
    "                end\n",
    "                l_id += 1\n",
    "                l_idx += 1\n",
    "                l_length = parse(Int, l[l_idx])\n",
    "                l_is_file = false\n",
    "            else\n",
    "                while (l_length > 0) && (r_length > 0)\n",
    "                    tot += block_pos*r_id\n",
    "                    # println(\"Adding file id \", r_id, \" at position \", block_pos)\n",
    "                    block_pos += 1\n",
    "                    l_length -= 1\n",
    "                    r_length -= 1\n",
    "                end\n",
    "                if l_length == 0\n",
    "                    l_idx += 1\n",
    "                    l_length = parse(Int, l[l_idx])\n",
    "                    l_is_file = true\n",
    "                    # println(\"New L position is \", l_idx)\n",
    "                end\n",
    "                if r_length == 0\n",
    "                    r_idx -= 2 \n",
    "                    r_id -= 1\n",
    "                    r_length = parse(Int, l[r_idx])\n",
    "                    # println(\"New R position is \", r_idx)\n",
    "                end\n",
    "            end\n",
    "            # println(\"R = \", r_idx, \" with length \", r_length, \" and L = \", l_idx, \" with length \", l_length)\n",
    "        end\n",
    "        while (r_length > 0) && (l_idx == r_idx)\n",
    "            tot += block_pos*r_id\n",
    "            block_pos += 1\n",
    "            r_length -= 1\n",
    "        end\n",
    "        \n",
    "    end\n",
    "    println(nb_chunks)\n",
    "    println(format(tot, commas = true))\n",
    "    (tot)\n",
    "end\n"
   ]
  },
  {
   "cell_type": "code",
   "execution_count": null,
   "id": "36379cb1-5eeb-405e-86db-d37d61f1ff91",
   "metadata": {},
   "outputs": [],
   "source": [
    "# Failed: 629271736459 too low\n",
    "# Failed: 6292717364590 too high"
   ]
  }
 ],
 "metadata": {
  "kernelspec": {
   "display_name": "Julia 1.9.2",
   "language": "julia",
   "name": "julia-1.9"
  },
  "language_info": {
   "file_extension": ".jl",
   "mimetype": "application/julia",
   "name": "julia",
   "version": "1.9.2"
  }
 },
 "nbformat": 4,
 "nbformat_minor": 5
}
